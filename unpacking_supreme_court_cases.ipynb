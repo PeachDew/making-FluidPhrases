{
 "cells": [
  {
   "cell_type": "markdown",
   "metadata": {},
   "source": [
    "### This notebook demonstrates how to obtain the transcripts from the supreme court cases .json files"
   ]
  },
  {
   "cell_type": "code",
   "execution_count": 19,
   "metadata": {},
   "outputs": [],
   "source": [
    "import os\n",
    "import json\n",
    "\n",
    "def load_files_as_json(directory):\n",
    "    file_contents = {}\n",
    "    for filename in os.listdir(directory):\n",
    "        if filename.endswith('.js'):\n",
    "            file_path = os.path.join(directory, filename)\n",
    "            with open(file_path, 'r', encoding='utf-8') as file:\n",
    "                try:\n",
    "                    data = json.load(file)\n",
    "                    casename = data['caseName']\n",
    "                    if casename not in file_contents:\n",
    "                        file_contents[casename] = data\n",
    "                    else: \n",
    "                        print(f\"Warning! Duplicate case names in {directory}\")\n",
    "                except json.JSONDecodeError:\n",
    "                    print(f\"Error decoding JSON from file: {filename}\")\n",
    "    return file_contents\n",
    "\n",
    "case_directory = \"./data/lawyer/2018/\"\n",
    "files_data = load_files_as_json(case_directory)"
   ]
  },
  {
   "cell_type": "code",
   "execution_count": 30,
   "metadata": {},
   "outputs": [],
   "source": [
    "def get_lines(case_transcripts_dict: dict, verbose=False):\n",
    "    lines = []\n",
    "    if len(case_transcripts_dict['caseTranscripts']) > 0:\n",
    "        for trans in case_transcripts_dict['caseTranscripts'][0]['transcript']:\n",
    "            speaker = trans['speakerName']\n",
    "            speaker_text = trans['textObjs'][0]['text']\n",
    "            lines.append(speaker+\": \"+speaker_text)\n",
    "            if verbose: print(speaker+\": \"+speaker_text)\n",
    "    return ' '.join(lines)\n",
    "\n",
    "for case_name,case_dict in files_data.items():\n",
    "    case_transcript = get_lines(case_dict)"
   ]
  }
 ],
 "metadata": {
  "kernelspec": {
   "display_name": "Python 3",
   "language": "python",
   "name": "python3"
  },
  "language_info": {
   "codemirror_mode": {
    "name": "ipython",
    "version": 3
   },
   "file_extension": ".py",
   "mimetype": "text/x-python",
   "name": "python",
   "nbconvert_exporter": "python",
   "pygments_lexer": "ipython3",
   "version": "3.10.6"
  }
 },
 "nbformat": 4,
 "nbformat_minor": 2
}
